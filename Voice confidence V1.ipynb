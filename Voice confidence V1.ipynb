{
 "cells": [
  {
   "cell_type": "code",
   "execution_count": 1,
   "metadata": {},
   "outputs": [],
   "source": [
    "import librosa\n",
    "import librosa.display\n",
    "import numpy as np\n",
    "import matplotlib.pyplot as plt\n",
    "import tensorflow as tf\n",
    "from matplotlib.pyplot import specgram\n",
    "import keras\n",
    "from keras.preprocessing import sequence\n",
    "from keras.models import Sequential\n",
    "from keras.layers import Dense, Embedding\n",
    "from keras.layers import LSTM,BatchNormalization\n",
    "from keras.preprocessing.text import Tokenizer\n",
    "from keras.preprocessing.sequence import pad_sequences\n",
    "from keras.utils import to_categorical\n",
    "from keras.layers import Input, Flatten, Dropout, Activation\n",
    "from keras.layers import Conv1D, MaxPooling1D, AveragePooling1D\n",
    "from keras.models import Model\n",
    "from keras.callbacks import ModelCheckpoint, LearningRateScheduler, EarlyStopping\n",
    "from sklearn.metrics import confusion_matrix\n",
    "import pandas as pd\n",
    "from tensorflow.keras import optimizers\n",
    "from keras.callbacks import  History, ReduceLROnPlateau, CSVLogger\n",
    "from keras import regularizers\n",
    "import os"
   ]
  },
  {
   "cell_type": "code",
   "execution_count": 2,
   "metadata": {},
   "outputs": [],
   "source": [
    "import os\n",
    "import pandas as pd\n",
    "import librosa\n",
    "import glob \n",
    "import matplotlib.pyplot as plt\n",
    "import scipy.io.wavfile\n",
    "import numpy as np\n",
    "import sys\n",
    "from keras.utils import np_utils\n",
    "from sklearn.preprocessing import LabelEncoder\n",
    "import json"
   ]
  },
  {
   "cell_type": "code",
   "execution_count": 3,
   "metadata": {},
   "outputs": [],
   "source": [
    "mylist= os.listdir('Audio/')"
   ]
  },
  {
   "cell_type": "code",
   "execution_count": 4,
   "metadata": {},
   "outputs": [
    {
     "data": {
      "text/plain": [
       "list"
      ]
     },
     "execution_count": 4,
     "metadata": {},
     "output_type": "execute_result"
    }
   ],
   "source": [
    "type(mylist)"
   ]
  },
  {
   "cell_type": "code",
   "execution_count": 5,
   "metadata": {},
   "outputs": [
    {
     "name": "stdout",
     "output_type": "stream",
     "text": [
      "h8.wav\n"
     ]
    }
   ],
   "source": [
    "print(mylist[28])"
   ]
  },
  {
   "cell_type": "code",
   "execution_count": 6,
   "metadata": {},
   "outputs": [
    {
     "name": "stdout",
     "output_type": "stream",
     "text": [
      "h8.w\n"
     ]
    }
   ],
   "source": [
    "print(mylist[28][:-2])"
   ]
  },
  {
   "cell_type": "code",
   "execution_count": 7,
   "metadata": {},
   "outputs": [],
   "source": [
    "data, sampling_rate = librosa.load('Audio/h1.wav')"
   ]
  },
  {
   "cell_type": "code",
   "execution_count": 8,
   "metadata": {},
   "outputs": [
    {
     "name": "stderr",
     "output_type": "stream",
     "text": [
      "UsageError: Line magic function `%` not found.\n"
     ]
    }
   ],
   "source": [
    "% pylab inline\n",
    "import os\n",
    "import pandas as pd\n",
    "import librosa\n",
    "import glob \n",
    "\n",
    "plt.figure(figsize=(15, 5))\n",
    "librosa.display.waveplot(data, sr=sampling_rate)"
   ]
  },
  {
   "cell_type": "code",
   "execution_count": 9,
   "metadata": {},
   "outputs": [
    {
     "name": "stderr",
     "output_type": "stream",
     "text": [
      "<ipython-input-9-08d00b823f38>:7: WavFileWarning: Chunk (non-data) not understood, skipping it.\n",
      "  sr,x = scipy.io.wavfile.read('Audio/h1.wav')\n"
     ]
    },
    {
     "ename": "ValueError",
     "evalue": "operands could not be broadcast together with shapes (1323,) (1323,2) ",
     "output_type": "error",
     "traceback": [
      "\u001b[1;31m---------------------------------------------------------------------------\u001b[0m",
      "\u001b[1;31mValueError\u001b[0m                                Traceback (most recent call last)",
      "\u001b[1;32m<ipython-input-9-08d00b823f38>\u001b[0m in \u001b[0;36m<module>\u001b[1;34m\u001b[0m\n\u001b[0;32m     23\u001b[0m \u001b[1;32mfor\u001b[0m \u001b[0mi\u001b[0m\u001b[1;33m,\u001b[0m\u001b[0mn\u001b[0m \u001b[1;32min\u001b[0m \u001b[0menumerate\u001b[0m\u001b[1;33m(\u001b[0m\u001b[0mnn\u001b[0m\u001b[1;33m)\u001b[0m\u001b[1;33m:\u001b[0m\u001b[1;33m\u001b[0m\u001b[1;33m\u001b[0m\u001b[0m\n\u001b[0;32m     24\u001b[0m     \u001b[0mxseg\u001b[0m \u001b[1;33m=\u001b[0m \u001b[0mx\u001b[0m\u001b[1;33m[\u001b[0m\u001b[0mn\u001b[0m\u001b[1;33m-\u001b[0m\u001b[0mnwin\u001b[0m\u001b[1;33m:\u001b[0m\u001b[0mn\u001b[0m\u001b[1;33m]\u001b[0m\u001b[1;33m\u001b[0m\u001b[1;33m\u001b[0m\u001b[0m\n\u001b[1;32m---> 25\u001b[1;33m     \u001b[0mz\u001b[0m \u001b[1;33m=\u001b[0m \u001b[0mnp\u001b[0m\u001b[1;33m.\u001b[0m\u001b[0mfft\u001b[0m\u001b[1;33m.\u001b[0m\u001b[0mfft\u001b[0m\u001b[1;33m(\u001b[0m\u001b[0mwindow\u001b[0m \u001b[1;33m*\u001b[0m \u001b[0mxseg\u001b[0m\u001b[1;33m,\u001b[0m \u001b[0mnfft\u001b[0m\u001b[1;33m)\u001b[0m\u001b[1;33m\u001b[0m\u001b[1;33m\u001b[0m\u001b[0m\n\u001b[0m\u001b[0;32m     26\u001b[0m     \u001b[0mX\u001b[0m\u001b[1;33m[\u001b[0m\u001b[0mi\u001b[0m\u001b[1;33m,\u001b[0m\u001b[1;33m:\u001b[0m\u001b[1;33m]\u001b[0m \u001b[1;33m=\u001b[0m \u001b[0mnp\u001b[0m\u001b[1;33m.\u001b[0m\u001b[0mlog\u001b[0m\u001b[1;33m(\u001b[0m\u001b[0mnp\u001b[0m\u001b[1;33m.\u001b[0m\u001b[0mabs\u001b[0m\u001b[1;33m(\u001b[0m\u001b[0mz\u001b[0m\u001b[1;33m[\u001b[0m\u001b[1;33m:\u001b[0m\u001b[0mnfft\u001b[0m\u001b[1;33m//\u001b[0m\u001b[1;36m2\u001b[0m\u001b[1;33m]\u001b[0m\u001b[1;33m)\u001b[0m\u001b[1;33m)\u001b[0m\u001b[1;33m\u001b[0m\u001b[1;33m\u001b[0m\u001b[0m\n\u001b[0;32m     27\u001b[0m \u001b[1;33m\u001b[0m\u001b[0m\n",
      "\u001b[1;31mValueError\u001b[0m: operands could not be broadcast together with shapes (1323,) (1323,2) "
     ]
    }
   ],
   "source": [
    "import matplotlib.pyplot as plt\n",
    "import scipy.io.wavfile\n",
    "import numpy as np\n",
    "import sys\n",
    "\n",
    "\n",
    "sr,x = scipy.io.wavfile.read('Audio/h1.wav')\n",
    "\n",
    "## Parameters: 10ms step, 30ms window\n",
    "nstep = int(sr * 0.01)\n",
    "nwin  = int(sr * 0.03)\n",
    "nfft = nwin\n",
    "\n",
    "window = np.hamming(nwin)\n",
    "\n",
    "## will take windows x[n1:n2].  generate\n",
    "## and loop over n2 such that all frames\n",
    "## fit within the waveform\n",
    "nn = range(nwin, len(x), nstep)\n",
    "\n",
    "X = np.zeros( (len(nn), nfft//2) )\n",
    "\n",
    "for i,n in enumerate(nn):\n",
    "    xseg = x[n-nwin:n]\n",
    "    z = np.fft.fft(window * xseg, nfft)\n",
    "    X[i,:] = np.log(np.abs(z[:nfft//2]))\n",
    "\n",
    "plt.imshow(X.T, interpolation='nearest',\n",
    "    origin='lower',\n",
    "    aspect='auto')\n",
    "\n",
    "plt.show()"
   ]
  },
  {
   "cell_type": "code",
   "execution_count": 10,
   "metadata": {},
   "outputs": [],
   "source": [
    "feeling_list=[]\n",
    "for item in mylist:\n",
    "    if item[:1]=='c':\n",
    "        feeling_list.append('confident')\n",
    "    elif item[:1]=='h':\n",
    "        feeling_list.append('hesitation')"
   ]
  },
  {
   "cell_type": "code",
   "execution_count": 11,
   "metadata": {},
   "outputs": [],
   "source": [
    "labels = pd.DataFrame(feeling_list)"
   ]
  },
  {
   "cell_type": "code",
   "execution_count": 12,
   "metadata": {},
   "outputs": [
    {
     "data": {
      "text/html": [
       "<div>\n",
       "<style scoped>\n",
       "    .dataframe tbody tr th:only-of-type {\n",
       "        vertical-align: middle;\n",
       "    }\n",
       "\n",
       "    .dataframe tbody tr th {\n",
       "        vertical-align: top;\n",
       "    }\n",
       "\n",
       "    .dataframe thead th {\n",
       "        text-align: right;\n",
       "    }\n",
       "</style>\n",
       "<table border=\"1\" class=\"dataframe\">\n",
       "  <thead>\n",
       "    <tr style=\"text-align: right;\">\n",
       "      <th></th>\n",
       "      <th>0</th>\n",
       "    </tr>\n",
       "  </thead>\n",
       "  <tbody>\n",
       "    <tr>\n",
       "      <th>0</th>\n",
       "      <td>confident</td>\n",
       "    </tr>\n",
       "    <tr>\n",
       "      <th>1</th>\n",
       "      <td>confident</td>\n",
       "    </tr>\n",
       "    <tr>\n",
       "      <th>2</th>\n",
       "      <td>confident</td>\n",
       "    </tr>\n",
       "    <tr>\n",
       "      <th>3</th>\n",
       "      <td>confident</td>\n",
       "    </tr>\n",
       "    <tr>\n",
       "      <th>4</th>\n",
       "      <td>confident</td>\n",
       "    </tr>\n",
       "    <tr>\n",
       "      <th>5</th>\n",
       "      <td>confident</td>\n",
       "    </tr>\n",
       "    <tr>\n",
       "      <th>6</th>\n",
       "      <td>confident</td>\n",
       "    </tr>\n",
       "    <tr>\n",
       "      <th>7</th>\n",
       "      <td>confident</td>\n",
       "    </tr>\n",
       "    <tr>\n",
       "      <th>8</th>\n",
       "      <td>confident</td>\n",
       "    </tr>\n",
       "    <tr>\n",
       "      <th>9</th>\n",
       "      <td>confident</td>\n",
       "    </tr>\n",
       "    <tr>\n",
       "      <th>10</th>\n",
       "      <td>confident</td>\n",
       "    </tr>\n",
       "    <tr>\n",
       "      <th>11</th>\n",
       "      <td>confident</td>\n",
       "    </tr>\n",
       "    <tr>\n",
       "      <th>12</th>\n",
       "      <td>confident</td>\n",
       "    </tr>\n",
       "    <tr>\n",
       "      <th>13</th>\n",
       "      <td>confident</td>\n",
       "    </tr>\n",
       "    <tr>\n",
       "      <th>14</th>\n",
       "      <td>confident</td>\n",
       "    </tr>\n",
       "    <tr>\n",
       "      <th>15</th>\n",
       "      <td>hesitation</td>\n",
       "    </tr>\n",
       "    <tr>\n",
       "      <th>16</th>\n",
       "      <td>hesitation</td>\n",
       "    </tr>\n",
       "    <tr>\n",
       "      <th>17</th>\n",
       "      <td>hesitation</td>\n",
       "    </tr>\n",
       "    <tr>\n",
       "      <th>18</th>\n",
       "      <td>hesitation</td>\n",
       "    </tr>\n",
       "    <tr>\n",
       "      <th>19</th>\n",
       "      <td>hesitation</td>\n",
       "    </tr>\n",
       "    <tr>\n",
       "      <th>20</th>\n",
       "      <td>hesitation</td>\n",
       "    </tr>\n",
       "    <tr>\n",
       "      <th>21</th>\n",
       "      <td>hesitation</td>\n",
       "    </tr>\n",
       "    <tr>\n",
       "      <th>22</th>\n",
       "      <td>hesitation</td>\n",
       "    </tr>\n",
       "    <tr>\n",
       "      <th>23</th>\n",
       "      <td>hesitation</td>\n",
       "    </tr>\n",
       "    <tr>\n",
       "      <th>24</th>\n",
       "      <td>hesitation</td>\n",
       "    </tr>\n",
       "    <tr>\n",
       "      <th>25</th>\n",
       "      <td>hesitation</td>\n",
       "    </tr>\n",
       "    <tr>\n",
       "      <th>26</th>\n",
       "      <td>hesitation</td>\n",
       "    </tr>\n",
       "    <tr>\n",
       "      <th>27</th>\n",
       "      <td>hesitation</td>\n",
       "    </tr>\n",
       "    <tr>\n",
       "      <th>28</th>\n",
       "      <td>hesitation</td>\n",
       "    </tr>\n",
       "  </tbody>\n",
       "</table>\n",
       "</div>"
      ],
      "text/plain": [
       "             0\n",
       "0    confident\n",
       "1    confident\n",
       "2    confident\n",
       "3    confident\n",
       "4    confident\n",
       "5    confident\n",
       "6    confident\n",
       "7    confident\n",
       "8    confident\n",
       "9    confident\n",
       "10   confident\n",
       "11   confident\n",
       "12   confident\n",
       "13   confident\n",
       "14   confident\n",
       "15  hesitation\n",
       "16  hesitation\n",
       "17  hesitation\n",
       "18  hesitation\n",
       "19  hesitation\n",
       "20  hesitation\n",
       "21  hesitation\n",
       "22  hesitation\n",
       "23  hesitation\n",
       "24  hesitation\n",
       "25  hesitation\n",
       "26  hesitation\n",
       "27  hesitation\n",
       "28  hesitation"
      ]
     },
     "execution_count": 12,
     "metadata": {},
     "output_type": "execute_result"
    }
   ],
   "source": [
    "labels[:29]"
   ]
  },
  {
   "cell_type": "code",
   "execution_count": 13,
   "metadata": {},
   "outputs": [],
   "source": [
    "df = pd.DataFrame(columns=['feature'])\n",
    "bookmark=0\n",
    "for index,y in enumerate(mylist):\n",
    "    if mylist[index][6:-16]!='01' and mylist[index][6:-16]!='07' and mylist[index][6:-16]!='08' and mylist[index][:2]!='su' and mylist[index][:1]!='n' and mylist[index][:1]!='d':\n",
    "        X, sample_rate = librosa.load('Audio/'+y, res_type='kaiser_fast',duration=20,sr=22050*2,offset=0.5)\n",
    "        sample_rate = np.array(sample_rate)\n",
    "        mfccs = np.mean(librosa.feature.mfcc(y=X, \n",
    "                                            sr=sample_rate, \n",
    "                                            n_mfcc=13),\n",
    "                        axis=0)\n",
    "        feature = mfccs\n",
    "        #[float(i) for i in feature]\n",
    "        #feature1=feature[:135]\n",
    "        df.loc[bookmark] = [feature]\n",
    "        bookmark=bookmark+1"
   ]
  },
  {
   "cell_type": "code",
   "execution_count": 14,
   "metadata": {},
   "outputs": [
    {
     "data": {
      "text/html": [
       "<div>\n",
       "<style scoped>\n",
       "    .dataframe tbody tr th:only-of-type {\n",
       "        vertical-align: middle;\n",
       "    }\n",
       "\n",
       "    .dataframe tbody tr th {\n",
       "        vertical-align: top;\n",
       "    }\n",
       "\n",
       "    .dataframe thead th {\n",
       "        text-align: right;\n",
       "    }\n",
       "</style>\n",
       "<table border=\"1\" class=\"dataframe\">\n",
       "  <thead>\n",
       "    <tr style=\"text-align: right;\">\n",
       "      <th></th>\n",
       "      <th>feature</th>\n",
       "    </tr>\n",
       "  </thead>\n",
       "  <tbody>\n",
       "    <tr>\n",
       "      <th>0</th>\n",
       "      <td>[-16.820232, -18.45706, -21.608778, -24.4149, ...</td>\n",
       "    </tr>\n",
       "    <tr>\n",
       "      <th>1</th>\n",
       "      <td>[-7.7447147, -11.703676, -25.931456, -32.00933...</td>\n",
       "    </tr>\n",
       "    <tr>\n",
       "      <th>2</th>\n",
       "      <td>[-15.132053, -14.90013, -15.525883, -16.528883...</td>\n",
       "    </tr>\n",
       "    <tr>\n",
       "      <th>3</th>\n",
       "      <td>[-22.422218, -22.121727, -24.5001, -24.51517, ...</td>\n",
       "    </tr>\n",
       "    <tr>\n",
       "      <th>4</th>\n",
       "      <td>[-40.872288, -36.827137, -22.110006, -14.89120...</td>\n",
       "    </tr>\n",
       "  </tbody>\n",
       "</table>\n",
       "</div>"
      ],
      "text/plain": [
       "                                             feature\n",
       "0  [-16.820232, -18.45706, -21.608778, -24.4149, ...\n",
       "1  [-7.7447147, -11.703676, -25.931456, -32.00933...\n",
       "2  [-15.132053, -14.90013, -15.525883, -16.528883...\n",
       "3  [-22.422218, -22.121727, -24.5001, -24.51517, ...\n",
       "4  [-40.872288, -36.827137, -22.110006, -14.89120..."
      ]
     },
     "execution_count": 14,
     "metadata": {},
     "output_type": "execute_result"
    }
   ],
   "source": [
    "df[:5]"
   ]
  },
  {
   "cell_type": "code",
   "execution_count": 15,
   "metadata": {},
   "outputs": [],
   "source": [
    "df3 = pd.DataFrame(df['feature'].values.tolist())"
   ]
  },
  {
   "cell_type": "code",
   "execution_count": 16,
   "metadata": {},
   "outputs": [],
   "source": [
    "newdf = pd.concat([df3,labels], axis=1)"
   ]
  },
  {
   "cell_type": "code",
   "execution_count": 17,
   "metadata": {},
   "outputs": [],
   "source": [
    "rnewdf = newdf.rename(index=str, columns={\"0\": \"label\"})"
   ]
  },
  {
   "cell_type": "code",
   "execution_count": 18,
   "metadata": {},
   "outputs": [
    {
     "data": {
      "text/html": [
       "<div>\n",
       "<style scoped>\n",
       "    .dataframe tbody tr th:only-of-type {\n",
       "        vertical-align: middle;\n",
       "    }\n",
       "\n",
       "    .dataframe tbody tr th {\n",
       "        vertical-align: top;\n",
       "    }\n",
       "\n",
       "    .dataframe thead th {\n",
       "        text-align: right;\n",
       "    }\n",
       "</style>\n",
       "<table border=\"1\" class=\"dataframe\">\n",
       "  <thead>\n",
       "    <tr style=\"text-align: right;\">\n",
       "      <th></th>\n",
       "      <th>0</th>\n",
       "      <th>1</th>\n",
       "      <th>2</th>\n",
       "      <th>3</th>\n",
       "      <th>4</th>\n",
       "      <th>5</th>\n",
       "      <th>6</th>\n",
       "      <th>7</th>\n",
       "      <th>8</th>\n",
       "      <th>9</th>\n",
       "      <th>...</th>\n",
       "      <th>1714</th>\n",
       "      <th>1715</th>\n",
       "      <th>1716</th>\n",
       "      <th>1717</th>\n",
       "      <th>1718</th>\n",
       "      <th>1719</th>\n",
       "      <th>1720</th>\n",
       "      <th>1721</th>\n",
       "      <th>1722</th>\n",
       "      <th>0</th>\n",
       "    </tr>\n",
       "  </thead>\n",
       "  <tbody>\n",
       "    <tr>\n",
       "      <th>9</th>\n",
       "      <td>-20.862511</td>\n",
       "      <td>-23.782749</td>\n",
       "      <td>-33.094265</td>\n",
       "      <td>-29.330128</td>\n",
       "      <td>-24.750637</td>\n",
       "      <td>-22.603283</td>\n",
       "      <td>-22.804173</td>\n",
       "      <td>-24.328539</td>\n",
       "      <td>-24.037811</td>\n",
       "      <td>-26.052145</td>\n",
       "      <td>...</td>\n",
       "      <td>-26.463505</td>\n",
       "      <td>-23.513306</td>\n",
       "      <td>-20.826134</td>\n",
       "      <td>-20.431253</td>\n",
       "      <td>-22.671467</td>\n",
       "      <td>-26.872383</td>\n",
       "      <td>-30.174095</td>\n",
       "      <td>-32.468025</td>\n",
       "      <td>-32.448109</td>\n",
       "      <td>confident</td>\n",
       "    </tr>\n",
       "    <tr>\n",
       "      <th>26</th>\n",
       "      <td>-12.421477</td>\n",
       "      <td>-11.878429</td>\n",
       "      <td>-15.390087</td>\n",
       "      <td>-18.352375</td>\n",
       "      <td>-19.291243</td>\n",
       "      <td>-19.885530</td>\n",
       "      <td>-21.758602</td>\n",
       "      <td>-18.974213</td>\n",
       "      <td>-18.627052</td>\n",
       "      <td>-14.877284</td>\n",
       "      <td>...</td>\n",
       "      <td>-16.545683</td>\n",
       "      <td>-18.817238</td>\n",
       "      <td>-19.805641</td>\n",
       "      <td>-18.066189</td>\n",
       "      <td>-14.834322</td>\n",
       "      <td>-12.629364</td>\n",
       "      <td>-10.615644</td>\n",
       "      <td>-9.456968</td>\n",
       "      <td>-5.735039</td>\n",
       "      <td>hesitation</td>\n",
       "    </tr>\n",
       "    <tr>\n",
       "      <th>10</th>\n",
       "      <td>-12.969912</td>\n",
       "      <td>-16.658316</td>\n",
       "      <td>-21.682793</td>\n",
       "      <td>-23.392418</td>\n",
       "      <td>-22.954863</td>\n",
       "      <td>-21.531223</td>\n",
       "      <td>-22.601919</td>\n",
       "      <td>-23.863634</td>\n",
       "      <td>-23.803366</td>\n",
       "      <td>-24.303518</td>\n",
       "      <td>...</td>\n",
       "      <td>-36.419827</td>\n",
       "      <td>-37.527794</td>\n",
       "      <td>-37.659836</td>\n",
       "      <td>-38.536125</td>\n",
       "      <td>-39.995888</td>\n",
       "      <td>-39.911636</td>\n",
       "      <td>-40.431942</td>\n",
       "      <td>-42.029800</td>\n",
       "      <td>-37.957878</td>\n",
       "      <td>confident</td>\n",
       "    </tr>\n",
       "    <tr>\n",
       "      <th>11</th>\n",
       "      <td>-27.280033</td>\n",
       "      <td>-28.252821</td>\n",
       "      <td>-30.654747</td>\n",
       "      <td>-33.772007</td>\n",
       "      <td>-34.914913</td>\n",
       "      <td>-34.893604</td>\n",
       "      <td>-33.988998</td>\n",
       "      <td>-33.821499</td>\n",
       "      <td>-34.628098</td>\n",
       "      <td>-34.661682</td>\n",
       "      <td>...</td>\n",
       "      <td>-38.697586</td>\n",
       "      <td>-39.823551</td>\n",
       "      <td>-40.575462</td>\n",
       "      <td>-40.159199</td>\n",
       "      <td>-41.102425</td>\n",
       "      <td>-43.910488</td>\n",
       "      <td>-45.139835</td>\n",
       "      <td>-46.125908</td>\n",
       "      <td>-44.824833</td>\n",
       "      <td>confident</td>\n",
       "    </tr>\n",
       "    <tr>\n",
       "      <th>14</th>\n",
       "      <td>-18.684284</td>\n",
       "      <td>-19.019203</td>\n",
       "      <td>-15.777334</td>\n",
       "      <td>-10.948073</td>\n",
       "      <td>-9.409962</td>\n",
       "      <td>-9.899128</td>\n",
       "      <td>-9.742911</td>\n",
       "      <td>-10.744406</td>\n",
       "      <td>-9.490953</td>\n",
       "      <td>-9.466778</td>\n",
       "      <td>...</td>\n",
       "      <td>-9.646505</td>\n",
       "      <td>-9.635230</td>\n",
       "      <td>-8.223202</td>\n",
       "      <td>-8.410442</td>\n",
       "      <td>-8.006181</td>\n",
       "      <td>-7.947282</td>\n",
       "      <td>-8.111093</td>\n",
       "      <td>-7.372236</td>\n",
       "      <td>-3.601696</td>\n",
       "      <td>confident</td>\n",
       "    </tr>\n",
       "    <tr>\n",
       "      <th>6</th>\n",
       "      <td>-6.965083</td>\n",
       "      <td>-8.847045</td>\n",
       "      <td>-11.462982</td>\n",
       "      <td>-11.868047</td>\n",
       "      <td>-14.538705</td>\n",
       "      <td>-15.529673</td>\n",
       "      <td>-18.192617</td>\n",
       "      <td>-22.544231</td>\n",
       "      <td>-30.824547</td>\n",
       "      <td>-37.538654</td>\n",
       "      <td>...</td>\n",
       "      <td>-14.687154</td>\n",
       "      <td>-15.199187</td>\n",
       "      <td>-15.595686</td>\n",
       "      <td>-15.853916</td>\n",
       "      <td>-15.426380</td>\n",
       "      <td>-16.068384</td>\n",
       "      <td>-16.063745</td>\n",
       "      <td>-16.401760</td>\n",
       "      <td>-12.975442</td>\n",
       "      <td>confident</td>\n",
       "    </tr>\n",
       "    <tr>\n",
       "      <th>15</th>\n",
       "      <td>-23.653240</td>\n",
       "      <td>-20.888134</td>\n",
       "      <td>-19.926291</td>\n",
       "      <td>-21.406862</td>\n",
       "      <td>-21.510973</td>\n",
       "      <td>-20.272482</td>\n",
       "      <td>-22.073172</td>\n",
       "      <td>-24.402040</td>\n",
       "      <td>-22.392355</td>\n",
       "      <td>-21.795790</td>\n",
       "      <td>...</td>\n",
       "      <td>-17.884800</td>\n",
       "      <td>-17.593418</td>\n",
       "      <td>-18.117947</td>\n",
       "      <td>-17.495913</td>\n",
       "      <td>-14.607748</td>\n",
       "      <td>-11.323586</td>\n",
       "      <td>-8.971310</td>\n",
       "      <td>-8.688193</td>\n",
       "      <td>-7.374305</td>\n",
       "      <td>hesitation</td>\n",
       "    </tr>\n",
       "    <tr>\n",
       "      <th>3</th>\n",
       "      <td>-22.422218</td>\n",
       "      <td>-22.121727</td>\n",
       "      <td>-24.500099</td>\n",
       "      <td>-24.515169</td>\n",
       "      <td>-23.574032</td>\n",
       "      <td>-23.576170</td>\n",
       "      <td>-22.550503</td>\n",
       "      <td>-23.184666</td>\n",
       "      <td>-23.652056</td>\n",
       "      <td>-23.392073</td>\n",
       "      <td>...</td>\n",
       "      <td>-19.434605</td>\n",
       "      <td>-19.059776</td>\n",
       "      <td>-19.933725</td>\n",
       "      <td>-19.788212</td>\n",
       "      <td>-17.884499</td>\n",
       "      <td>-16.150057</td>\n",
       "      <td>-17.644228</td>\n",
       "      <td>-18.854759</td>\n",
       "      <td>-19.167398</td>\n",
       "      <td>confident</td>\n",
       "    </tr>\n",
       "    <tr>\n",
       "      <th>18</th>\n",
       "      <td>-22.412476</td>\n",
       "      <td>-24.950457</td>\n",
       "      <td>-27.874882</td>\n",
       "      <td>-26.596357</td>\n",
       "      <td>-27.720091</td>\n",
       "      <td>-30.718985</td>\n",
       "      <td>-31.043692</td>\n",
       "      <td>-32.409927</td>\n",
       "      <td>-33.147598</td>\n",
       "      <td>-33.185978</td>\n",
       "      <td>...</td>\n",
       "      <td>-20.028141</td>\n",
       "      <td>-19.791456</td>\n",
       "      <td>-17.204723</td>\n",
       "      <td>-15.055952</td>\n",
       "      <td>-13.833340</td>\n",
       "      <td>-14.519822</td>\n",
       "      <td>-14.539122</td>\n",
       "      <td>-14.703632</td>\n",
       "      <td>-8.812489</td>\n",
       "      <td>hesitation</td>\n",
       "    </tr>\n",
       "    <tr>\n",
       "      <th>23</th>\n",
       "      <td>-21.292349</td>\n",
       "      <td>-21.402475</td>\n",
       "      <td>-26.012331</td>\n",
       "      <td>-24.184505</td>\n",
       "      <td>-22.846863</td>\n",
       "      <td>-24.014097</td>\n",
       "      <td>-23.412519</td>\n",
       "      <td>-23.690763</td>\n",
       "      <td>-16.814714</td>\n",
       "      <td>-11.960642</td>\n",
       "      <td>...</td>\n",
       "      <td>-20.591484</td>\n",
       "      <td>-21.839174</td>\n",
       "      <td>-24.050905</td>\n",
       "      <td>-21.671749</td>\n",
       "      <td>-23.482807</td>\n",
       "      <td>-22.423998</td>\n",
       "      <td>-22.279551</td>\n",
       "      <td>-22.799419</td>\n",
       "      <td>-24.235359</td>\n",
       "      <td>hesitation</td>\n",
       "    </tr>\n",
       "  </tbody>\n",
       "</table>\n",
       "<p>10 rows × 1724 columns</p>\n",
       "</div>"
      ],
      "text/plain": [
       "         0          1          2          3          4          5     \\\n",
       "9  -20.862511 -23.782749 -33.094265 -29.330128 -24.750637 -22.603283   \n",
       "26 -12.421477 -11.878429 -15.390087 -18.352375 -19.291243 -19.885530   \n",
       "10 -12.969912 -16.658316 -21.682793 -23.392418 -22.954863 -21.531223   \n",
       "11 -27.280033 -28.252821 -30.654747 -33.772007 -34.914913 -34.893604   \n",
       "14 -18.684284 -19.019203 -15.777334 -10.948073  -9.409962  -9.899128   \n",
       "6   -6.965083  -8.847045 -11.462982 -11.868047 -14.538705 -15.529673   \n",
       "15 -23.653240 -20.888134 -19.926291 -21.406862 -21.510973 -20.272482   \n",
       "3  -22.422218 -22.121727 -24.500099 -24.515169 -23.574032 -23.576170   \n",
       "18 -22.412476 -24.950457 -27.874882 -26.596357 -27.720091 -30.718985   \n",
       "23 -21.292349 -21.402475 -26.012331 -24.184505 -22.846863 -24.014097   \n",
       "\n",
       "         6          7          8          9     ...       1714       1715  \\\n",
       "9  -22.804173 -24.328539 -24.037811 -26.052145  ... -26.463505 -23.513306   \n",
       "26 -21.758602 -18.974213 -18.627052 -14.877284  ... -16.545683 -18.817238   \n",
       "10 -22.601919 -23.863634 -23.803366 -24.303518  ... -36.419827 -37.527794   \n",
       "11 -33.988998 -33.821499 -34.628098 -34.661682  ... -38.697586 -39.823551   \n",
       "14  -9.742911 -10.744406  -9.490953  -9.466778  ...  -9.646505  -9.635230   \n",
       "6  -18.192617 -22.544231 -30.824547 -37.538654  ... -14.687154 -15.199187   \n",
       "15 -22.073172 -24.402040 -22.392355 -21.795790  ... -17.884800 -17.593418   \n",
       "3  -22.550503 -23.184666 -23.652056 -23.392073  ... -19.434605 -19.059776   \n",
       "18 -31.043692 -32.409927 -33.147598 -33.185978  ... -20.028141 -19.791456   \n",
       "23 -23.412519 -23.690763 -16.814714 -11.960642  ... -20.591484 -21.839174   \n",
       "\n",
       "         1716       1717       1718       1719       1720       1721  \\\n",
       "9  -20.826134 -20.431253 -22.671467 -26.872383 -30.174095 -32.468025   \n",
       "26 -19.805641 -18.066189 -14.834322 -12.629364 -10.615644  -9.456968   \n",
       "10 -37.659836 -38.536125 -39.995888 -39.911636 -40.431942 -42.029800   \n",
       "11 -40.575462 -40.159199 -41.102425 -43.910488 -45.139835 -46.125908   \n",
       "14  -8.223202  -8.410442  -8.006181  -7.947282  -8.111093  -7.372236   \n",
       "6  -15.595686 -15.853916 -15.426380 -16.068384 -16.063745 -16.401760   \n",
       "15 -18.117947 -17.495913 -14.607748 -11.323586  -8.971310  -8.688193   \n",
       "3  -19.933725 -19.788212 -17.884499 -16.150057 -17.644228 -18.854759   \n",
       "18 -17.204723 -15.055952 -13.833340 -14.519822 -14.539122 -14.703632   \n",
       "23 -24.050905 -21.671749 -23.482807 -22.423998 -22.279551 -22.799419   \n",
       "\n",
       "         1722        0     \n",
       "9  -32.448109   confident  \n",
       "26  -5.735039  hesitation  \n",
       "10 -37.957878   confident  \n",
       "11 -44.824833   confident  \n",
       "14  -3.601696   confident  \n",
       "6  -12.975442   confident  \n",
       "15  -7.374305  hesitation  \n",
       "3  -19.167398   confident  \n",
       "18  -8.812489  hesitation  \n",
       "23 -24.235359  hesitation  \n",
       "\n",
       "[10 rows x 1724 columns]"
      ]
     },
     "execution_count": 18,
     "metadata": {},
     "output_type": "execute_result"
    }
   ],
   "source": [
    "from sklearn.utils import shuffle\n",
    "rnewdf = shuffle(newdf)\n",
    "rnewdf[:10]"
   ]
  },
  {
   "cell_type": "code",
   "execution_count": 19,
   "metadata": {},
   "outputs": [],
   "source": [
    "rnewdf=rnewdf.fillna(0)"
   ]
  },
  {
   "cell_type": "code",
   "execution_count": 20,
   "metadata": {},
   "outputs": [],
   "source": [
    "newdf1 = np.random.rand(len(rnewdf)) < 0.8\n",
    "train = rnewdf[newdf1]\n",
    "test = rnewdf[~newdf1]"
   ]
  },
  {
   "cell_type": "code",
   "execution_count": 21,
   "metadata": {},
   "outputs": [],
   "source": [
    "trainfeatures = train.iloc[:, :-1]"
   ]
  },
  {
   "cell_type": "code",
   "execution_count": 22,
   "metadata": {},
   "outputs": [],
   "source": [
    "trainlabel = train.iloc[:, -1:]"
   ]
  },
  {
   "cell_type": "code",
   "execution_count": 23,
   "metadata": {},
   "outputs": [],
   "source": [
    "testfeatures = test.iloc[:, :-1]"
   ]
  },
  {
   "cell_type": "code",
   "execution_count": 24,
   "metadata": {},
   "outputs": [],
   "source": [
    "testlabel = test.iloc[:, -1:]"
   ]
  },
  {
   "cell_type": "code",
   "execution_count": 25,
   "metadata": {},
   "outputs": [
    {
     "name": "stderr",
     "output_type": "stream",
     "text": [
      "C:\\ProgramData\\Anaconda3\\lib\\site-packages\\sklearn\\utils\\validation.py:72: DataConversionWarning: A column-vector y was passed when a 1d array was expected. Please change the shape of y to (n_samples, ), for example using ravel().\n",
      "  return f(**kwargs)\n"
     ]
    }
   ],
   "source": [
    "from keras.utils import np_utils\n",
    "from sklearn.preprocessing import LabelEncoder\n",
    "\n",
    "X_train = np.array(trainfeatures)\n",
    "y_train = np.array(trainlabel)\n",
    "X_test = np.array(testfeatures)\n",
    "y_test = np.array(testlabel)\n",
    "\n",
    "lb = LabelEncoder()\n",
    "\n",
    "y_train = np_utils.to_categorical(lb.fit_transform(y_train))\n",
    "y_test = np_utils.to_categorical(lb.fit_transform(y_test))"
   ]
  },
  {
   "cell_type": "code",
   "execution_count": 26,
   "metadata": {},
   "outputs": [
    {
     "data": {
      "text/plain": [
       "array([[1., 0.],\n",
       "       [0., 1.],\n",
       "       [1., 0.],\n",
       "       [1., 0.],\n",
       "       [1., 0.],\n",
       "       [1., 0.],\n",
       "       [0., 1.],\n",
       "       [1., 0.],\n",
       "       [0., 1.],\n",
       "       [0., 1.],\n",
       "       [1., 0.],\n",
       "       [0., 1.],\n",
       "       [1., 0.],\n",
       "       [0., 1.],\n",
       "       [0., 1.],\n",
       "       [1., 0.],\n",
       "       [0., 1.],\n",
       "       [0., 1.],\n",
       "       [0., 1.],\n",
       "       [1., 0.],\n",
       "       [1., 0.],\n",
       "       [0., 1.],\n",
       "       [0., 1.],\n",
       "       [0., 1.],\n",
       "       [1., 0.],\n",
       "       [1., 0.]], dtype=float32)"
      ]
     },
     "execution_count": 26,
     "metadata": {},
     "output_type": "execute_result"
    }
   ],
   "source": [
    "y_train"
   ]
  },
  {
   "cell_type": "code",
   "execution_count": 27,
   "metadata": {},
   "outputs": [
    {
     "data": {
      "text/plain": [
       "(26, 1723)"
      ]
     },
     "execution_count": 27,
     "metadata": {},
     "output_type": "execute_result"
    }
   ],
   "source": [
    "X_train.shape"
   ]
  },
  {
   "cell_type": "code",
   "execution_count": 28,
   "metadata": {},
   "outputs": [],
   "source": [
    "x_traincnn =np.expand_dims(X_train, axis=2)\n",
    "x_testcnn= np.expand_dims(X_test, axis=2)"
   ]
  },
  {
   "cell_type": "code",
   "execution_count": 29,
   "metadata": {},
   "outputs": [],
   "source": [
    "model = Sequential()\n",
    "model.add(Conv1D(256, 8, padding='same',input_shape=(X_train.shape[1],1)))\n",
    "model.add(Activation('relu'))\n",
    "model.add(Conv1D(256, 8, padding='same'))\n",
    "model.add(BatchNormalization())\n",
    "model.add(Activation('relu'))\n",
    "model.add(Dropout(0.25))\n",
    "model.add(MaxPooling1D(pool_size=(8)))\n",
    "model.add(Conv1D(128, 8, padding='same'))\n",
    "model.add(Activation('relu'))\n",
    "model.add(Conv1D(128, 8, padding='same'))\n",
    "model.add(Activation('relu'))\n",
    "model.add(Conv1D(128, 8, padding='same'))\n",
    "model.add(Activation('relu'))\n",
    "model.add(Conv1D(128, 8, padding='same'))\n",
    "model.add(BatchNormalization())\n",
    "model.add(Activation('relu'))\n",
    "model.add(Dropout(0.25))\n",
    "model.add(MaxPooling1D(pool_size=(8)))\n",
    "model.add(Conv1D(64, 8, padding='same'))\n",
    "model.add(Activation('relu'))\n",
    "model.add(Conv1D(64, 8, padding='same'))\n",
    "model.add(Activation('relu'))\n",
    "model.add(Flatten())\n",
    "# Edit according to target class no.\n",
    "model.add(Dense(2))\n",
    "model.add(Activation('softmax'))\n",
    "opt = keras.optimizers.SGD(lr=0.0001, momentum=0.0, decay=0.0, nesterov=False)\n"
   ]
  },
  {
   "cell_type": "code",
   "execution_count": 30,
   "metadata": {},
   "outputs": [],
   "source": [
    "model.compile(loss='categorical_crossentropy', optimizer=opt,metrics=['accuracy'])"
   ]
  },
  {
   "cell_type": "code",
   "execution_count": 31,
   "metadata": {},
   "outputs": [
    {
     "name": "stdout",
     "output_type": "stream",
     "text": [
      "Epoch 1/20\n",
      "26/26 [==============================] - 5s 123ms/step - loss: 0.7222 - accuracy: 0.4647 - val_loss: 0.7090 - val_accuracy: 0.5000\n",
      "Epoch 2/20\n",
      "26/26 [==============================] - 2s 96ms/step - loss: 0.4532 - accuracy: 0.8274 - val_loss: 0.7130 - val_accuracy: 0.2500\n",
      "Epoch 3/20\n",
      "26/26 [==============================] - 2s 96ms/step - loss: 0.3972 - accuracy: 1.0000 - val_loss: 0.7295 - val_accuracy: 0.2500\n",
      "Epoch 4/20\n",
      "26/26 [==============================] - 3s 98ms/step - loss: 0.3538 - accuracy: 0.8802 - val_loss: 0.7408 - val_accuracy: 0.2500\n",
      "Epoch 5/20\n",
      "26/26 [==============================] - 2s 95ms/step - loss: 0.3332 - accuracy: 0.9220 - val_loss: 0.7590 - val_accuracy: 0.2500\n",
      "Epoch 6/20\n",
      "26/26 [==============================] - 2s 96ms/step - loss: 0.2224 - accuracy: 1.0000 - val_loss: 0.8052 - val_accuracy: 0.2500\n",
      "Epoch 7/20\n",
      "26/26 [==============================] - 3s 99ms/step - loss: 0.2130 - accuracy: 1.0000 - val_loss: 0.8399 - val_accuracy: 0.0000e+00\n",
      "Epoch 8/20\n",
      "26/26 [==============================] - 3s 97ms/step - loss: 0.2003 - accuracy: 0.9872 - val_loss: 0.8246 - val_accuracy: 0.2500\n",
      "Epoch 9/20\n",
      "26/26 [==============================] - 3s 98ms/step - loss: 0.1667 - accuracy: 1.0000 - val_loss: 0.8227 - val_accuracy: 0.2500\n",
      "Epoch 10/20\n",
      "26/26 [==============================] - 3s 97ms/step - loss: 0.1550 - accuracy: 1.0000 - val_loss: 0.8235 - val_accuracy: 0.2500\n",
      "Epoch 11/20\n",
      "26/26 [==============================] - 2s 94ms/step - loss: 0.1438 - accuracy: 1.0000 - val_loss: 0.8283 - val_accuracy: 0.2500\n",
      "Epoch 12/20\n",
      "26/26 [==============================] - 3s 98ms/step - loss: 0.1260 - accuracy: 1.0000 - val_loss: 0.8481 - val_accuracy: 0.0000e+00\n",
      "Epoch 13/20\n",
      "26/26 [==============================] - 3s 98ms/step - loss: 0.1356 - accuracy: 1.0000 - val_loss: 0.7930 - val_accuracy: 0.5000\n",
      "Epoch 14/20\n",
      "26/26 [==============================] - 3s 101ms/step - loss: 0.1162 - accuracy: 1.0000 - val_loss: 0.8148 - val_accuracy: 0.0000e+00\n",
      "Epoch 15/20\n",
      "26/26 [==============================] - 3s 99ms/step - loss: 0.1039 - accuracy: 1.0000 - val_loss: 0.8124 - val_accuracy: 0.0000e+00\n",
      "Epoch 16/20\n",
      "26/26 [==============================] - 3s 101ms/step - loss: 0.1034 - accuracy: 1.0000 - val_loss: 0.7876 - val_accuracy: 0.0000e+00\n",
      "Epoch 17/20\n",
      "26/26 [==============================] - 3s 99ms/step - loss: 0.0794 - accuracy: 1.0000 - val_loss: 0.8173 - val_accuracy: 0.0000e+00\n",
      "Epoch 18/20\n",
      "26/26 [==============================] - 2s 94ms/step - loss: 0.0913 - accuracy: 1.0000 - val_loss: 0.7613 - val_accuracy: 0.0000e+00\n",
      "Epoch 19/20\n",
      "26/26 [==============================] - 2s 95ms/step - loss: 0.0771 - accuracy: 1.0000 - val_loss: 0.7580 - val_accuracy: 0.2500\n",
      "Epoch 20/20\n",
      "26/26 [==============================] - 3s 97ms/step - loss: 0.0733 - accuracy: 1.0000 - val_loss: 0.7691 - val_accuracy: 0.5000\n"
     ]
    }
   ],
   "source": [
    "cnnhistory=model.fit(x_traincnn, y_train, batch_size=1, epochs=20, validation_data=(x_testcnn, y_test))"
   ]
  },
  {
   "cell_type": "code",
   "execution_count": 32,
   "metadata": {},
   "outputs": [
    {
     "data": {
      "image/png": "[encoded data removed]",
      "text/plain": [
       "<Figure size 432x288 with 1 Axes>"
      ]
     },
     "metadata": {
      "needs_background": "light"
     },
     "output_type": "display_data"
    }
   ],
   "source": [
    "plt.plot(cnnhistory.history['loss'])\n",
    "plt.plot(cnnhistory.history['val_loss'])\n",
    "plt.title('model loss')\n",
    "plt.ylabel('loss')\n",
    "plt.xlabel('epoch')\n",
    "plt.legend(['train', 'test'], loc='upper left')\n",
    "plt.show()"
   ]
  },
  {
   "cell_type": "code",
   "execution_count": 60,
   "metadata": {},
   "outputs": [
    {
     "name": "stdout",
     "output_type": "stream",
     "text": [
      "Saved trained model at C:\\Users\\paperspace\\Documents\\speech-emotion-detection-master\\saved_models1\\Emotion_Voice_Detection_Model.h5 \n"
     ]
    }
   ],
   "source": [
    "model_name = 'Emotion_Voice_Detection_Model.h5'\n",
    "save_dir = os.path.join(os.getcwd(), 'saved_models1')\n",
    "# Save model and weights\n",
    "if not os.path.isdir(save_dir):\n",
    "    os.makedirs(save_dir)\n",
    "model_path = os.path.join(save_dir, model_name)\n",
    "model.save(model_path)\n",
    "print('Saved trained model at %s ' % model_path)"
   ]
  },
  {
   "cell_type": "code",
   "execution_count": 62,
   "metadata": {},
   "outputs": [],
   "source": [
    "import json\n",
    "model_json = model.to_json()\n",
    "with open(\"model1.json\", \"w\") as json_file:\n",
    "    json_file.write(model_json)"
   ]
  },
  {
   "cell_type": "code",
   "execution_count": 33,
   "metadata": {},
   "outputs": [
    {
     "name": "stdout",
     "output_type": "stream",
     "text": [
      "Loaded model from disk\n",
      "accuracy: 75.00%\n"
     ]
    }
   ],
   "source": [
    "# loading json and creating model\n",
    "from keras.models import model_from_json\n",
    "json_file = open('model1.json', 'r')\n",
    "loaded_model_json = json_file.read()\n",
    "json_file.close()\n",
    "loaded_model = model_from_json(loaded_model_json)\n",
    "# load weights into new model\n",
    "loaded_model.load_weights(\"saved_models1/Emotion_Voice_Detection_Model.h5\")\n",
    "print(\"Loaded model from disk\")\n",
    " \n",
    "# evaluate loaded model on test data\n",
    "loaded_model.compile(loss='categorical_crossentropy', optimizer=opt, metrics=['accuracy'])\n",
    "score = loaded_model.evaluate(x_testcnn, y_test, verbose=0)\n",
    "print(\"%s: %.2f%%\" % (loaded_model.metrics_names[1], score[1]*100))"
   ]
  },
  {
   "cell_type": "code",
   "execution_count": 34,
   "metadata": {},
   "outputs": [
    {
     "name": "stdout",
     "output_type": "stream",
     "text": [
      "1/1 [==============================] - 0s 428ms/step\n"
     ]
    }
   ],
   "source": [
    "preds = loaded_model.predict(x_testcnn, \n",
    "                         batch_size=32, \n",
    "                         verbose=1)"
   ]
  },
  {
   "cell_type": "code",
   "execution_count": 35,
   "metadata": {},
   "outputs": [
    {
     "data": {
      "text/plain": [
       "array([[0.30025756, 0.6997425 ],\n",
       "       [0.8864884 , 0.1135116 ],\n",
       "       [0.54969543, 0.45030463],\n",
       "       [0.8962797 , 0.10372034]], dtype=float32)"
      ]
     },
     "execution_count": 35,
     "metadata": {},
     "output_type": "execute_result"
    }
   ],
   "source": [
    "preds"
   ]
  },
  {
   "cell_type": "code",
   "execution_count": 36,
   "metadata": {},
   "outputs": [],
   "source": [
    "preds1=preds.argmax(axis=1)"
   ]
  },
  {
   "cell_type": "code",
   "execution_count": 37,
   "metadata": {},
   "outputs": [
    {
     "data": {
      "text/plain": [
       "array([1, 0, 0, 0], dtype=int64)"
      ]
     },
     "execution_count": 37,
     "metadata": {},
     "output_type": "execute_result"
    }
   ],
   "source": [
    "preds1"
   ]
  },
  {
   "cell_type": "code",
   "execution_count": 38,
   "metadata": {},
   "outputs": [],
   "source": [
    "abc = preds1.astype(int).flatten()"
   ]
  },
  {
   "cell_type": "code",
   "execution_count": 39,
   "metadata": {},
   "outputs": [],
   "source": [
    "predictions = (lb.inverse_transform((abc)))"
   ]
  },
  {
   "cell_type": "code",
   "execution_count": 40,
   "metadata": {},
   "outputs": [
    {
     "data": {
      "text/html": [
       "<div>\n",
       "<style scoped>\n",
       "    .dataframe tbody tr th:only-of-type {\n",
       "        vertical-align: middle;\n",
       "    }\n",
       "\n",
       "    .dataframe tbody tr th {\n",
       "        vertical-align: top;\n",
       "    }\n",
       "\n",
       "    .dataframe thead th {\n",
       "        text-align: right;\n",
       "    }\n",
       "</style>\n",
       "<table border=\"1\" class=\"dataframe\">\n",
       "  <thead>\n",
       "    <tr style=\"text-align: right;\">\n",
       "      <th></th>\n",
       "      <th>predictedvalues</th>\n",
       "    </tr>\n",
       "  </thead>\n",
       "  <tbody>\n",
       "    <tr>\n",
       "      <th>0</th>\n",
       "      <td>hesitation</td>\n",
       "    </tr>\n",
       "    <tr>\n",
       "      <th>1</th>\n",
       "      <td>confident</td>\n",
       "    </tr>\n",
       "    <tr>\n",
       "      <th>2</th>\n",
       "      <td>confident</td>\n",
       "    </tr>\n",
       "    <tr>\n",
       "      <th>3</th>\n",
       "      <td>confident</td>\n",
       "    </tr>\n",
       "  </tbody>\n",
       "</table>\n",
       "</div>"
      ],
      "text/plain": [
       "  predictedvalues\n",
       "0      hesitation\n",
       "1       confident\n",
       "2       confident\n",
       "3       confident"
      ]
     },
     "execution_count": 40,
     "metadata": {},
     "output_type": "execute_result"
    }
   ],
   "source": [
    "preddf = pd.DataFrame({'predictedvalues': predictions})\n",
    "preddf[:10]"
   ]
  },
  {
   "cell_type": "code",
   "execution_count": 41,
   "metadata": {},
   "outputs": [],
   "source": [
    "actual=y_test.argmax(axis=1)\n",
    "abc123 = actual.astype(int).flatten()\n",
    "actualvalues = (lb.inverse_transform((abc123)))"
   ]
  },
  {
   "cell_type": "code",
   "execution_count": 42,
   "metadata": {},
   "outputs": [
    {
     "data": {
      "text/html": [
       "<div>\n",
       "<style scoped>\n",
       "    .dataframe tbody tr th:only-of-type {\n",
       "        vertical-align: middle;\n",
       "    }\n",
       "\n",
       "    .dataframe tbody tr th {\n",
       "        vertical-align: top;\n",
       "    }\n",
       "\n",
       "    .dataframe thead th {\n",
       "        text-align: right;\n",
       "    }\n",
       "</style>\n",
       "<table border=\"1\" class=\"dataframe\">\n",
       "  <thead>\n",
       "    <tr style=\"text-align: right;\">\n",
       "      <th></th>\n",
       "      <th>actualvalues</th>\n",
       "    </tr>\n",
       "  </thead>\n",
       "  <tbody>\n",
       "    <tr>\n",
       "      <th>0</th>\n",
       "      <td>hesitation</td>\n",
       "    </tr>\n",
       "    <tr>\n",
       "      <th>1</th>\n",
       "      <td>confident</td>\n",
       "    </tr>\n",
       "    <tr>\n",
       "      <th>2</th>\n",
       "      <td>hesitation</td>\n",
       "    </tr>\n",
       "    <tr>\n",
       "      <th>3</th>\n",
       "      <td>confident</td>\n",
       "    </tr>\n",
       "  </tbody>\n",
       "</table>\n",
       "</div>"
      ],
      "text/plain": [
       "  actualvalues\n",
       "0   hesitation\n",
       "1    confident\n",
       "2   hesitation\n",
       "3    confident"
      ]
     },
     "execution_count": 42,
     "metadata": {},
     "output_type": "execute_result"
    }
   ],
   "source": [
    "actualdf = pd.DataFrame({'actualvalues': actualvalues})\n",
    "actualdf[:10]"
   ]
  },
  {
   "cell_type": "code",
   "execution_count": 43,
   "metadata": {},
   "outputs": [],
   "source": [
    "finaldf = actualdf.join(preddf)"
   ]
  },
  {
   "cell_type": "code",
   "execution_count": 44,
   "metadata": {},
   "outputs": [
    {
     "data": {
      "text/html": [
       "<div>\n",
       "<style scoped>\n",
       "    .dataframe tbody tr th:only-of-type {\n",
       "        vertical-align: middle;\n",
       "    }\n",
       "\n",
       "    .dataframe tbody tr th {\n",
       "        vertical-align: top;\n",
       "    }\n",
       "\n",
       "    .dataframe thead th {\n",
       "        text-align: right;\n",
       "    }\n",
       "</style>\n",
       "<table border=\"1\" class=\"dataframe\">\n",
       "  <thead>\n",
       "    <tr style=\"text-align: right;\">\n",
       "      <th></th>\n",
       "      <th>actualvalues</th>\n",
       "      <th>predictedvalues</th>\n",
       "    </tr>\n",
       "  </thead>\n",
       "  <tbody>\n",
       "    <tr>\n",
       "      <th>0</th>\n",
       "      <td>hesitation</td>\n",
       "      <td>hesitation</td>\n",
       "    </tr>\n",
       "    <tr>\n",
       "      <th>1</th>\n",
       "      <td>confident</td>\n",
       "      <td>confident</td>\n",
       "    </tr>\n",
       "    <tr>\n",
       "      <th>2</th>\n",
       "      <td>hesitation</td>\n",
       "      <td>confident</td>\n",
       "    </tr>\n",
       "    <tr>\n",
       "      <th>3</th>\n",
       "      <td>confident</td>\n",
       "      <td>confident</td>\n",
       "    </tr>\n",
       "  </tbody>\n",
       "</table>\n",
       "</div>"
      ],
      "text/plain": [
       "  actualvalues predictedvalues\n",
       "0   hesitation      hesitation\n",
       "1    confident       confident\n",
       "2   hesitation       confident\n",
       "3    confident       confident"
      ]
     },
     "execution_count": 44,
     "metadata": {},
     "output_type": "execute_result"
    }
   ],
   "source": [
    "finaldf[:5]"
   ]
  },
  {
   "cell_type": "code",
   "execution_count": 45,
   "metadata": {},
   "outputs": [
    {
     "data": {
      "text/html": [
       "<div>\n",
       "<style scoped>\n",
       "    .dataframe tbody tr th:only-of-type {\n",
       "        vertical-align: middle;\n",
       "    }\n",
       "\n",
       "    .dataframe tbody tr th {\n",
       "        vertical-align: top;\n",
       "    }\n",
       "\n",
       "    .dataframe thead th {\n",
       "        text-align: right;\n",
       "    }\n",
       "</style>\n",
       "<table border=\"1\" class=\"dataframe\">\n",
       "  <thead>\n",
       "    <tr style=\"text-align: right;\">\n",
       "      <th></th>\n",
       "      <th>predictedvalues</th>\n",
       "    </tr>\n",
       "    <tr>\n",
       "      <th>actualvalues</th>\n",
       "      <th></th>\n",
       "    </tr>\n",
       "  </thead>\n",
       "  <tbody>\n",
       "    <tr>\n",
       "      <th>confident</th>\n",
       "      <td>2</td>\n",
       "    </tr>\n",
       "    <tr>\n",
       "      <th>hesitation</th>\n",
       "      <td>2</td>\n",
       "    </tr>\n",
       "  </tbody>\n",
       "</table>\n",
       "</div>"
      ],
      "text/plain": [
       "              predictedvalues\n",
       "actualvalues                 \n",
       "confident                   2\n",
       "hesitation                  2"
      ]
     },
     "execution_count": 45,
     "metadata": {},
     "output_type": "execute_result"
    }
   ],
   "source": [
    "finaldf.groupby('actualvalues').count()"
   ]
  },
  {
   "cell_type": "code",
   "execution_count": 46,
   "metadata": {},
   "outputs": [
    {
     "data": {
      "text/html": [
       "<div>\n",
       "<style scoped>\n",
       "    .dataframe tbody tr th:only-of-type {\n",
       "        vertical-align: middle;\n",
       "    }\n",
       "\n",
       "    .dataframe tbody tr th {\n",
       "        vertical-align: top;\n",
       "    }\n",
       "\n",
       "    .dataframe thead th {\n",
       "        text-align: right;\n",
       "    }\n",
       "</style>\n",
       "<table border=\"1\" class=\"dataframe\">\n",
       "  <thead>\n",
       "    <tr style=\"text-align: right;\">\n",
       "      <th></th>\n",
       "      <th>actualvalues</th>\n",
       "    </tr>\n",
       "    <tr>\n",
       "      <th>predictedvalues</th>\n",
       "      <th></th>\n",
       "    </tr>\n",
       "  </thead>\n",
       "  <tbody>\n",
       "    <tr>\n",
       "      <th>confident</th>\n",
       "      <td>3</td>\n",
       "    </tr>\n",
       "    <tr>\n",
       "      <th>hesitation</th>\n",
       "      <td>1</td>\n",
       "    </tr>\n",
       "  </tbody>\n",
       "</table>\n",
       "</div>"
      ],
      "text/plain": [
       "                 actualvalues\n",
       "predictedvalues              \n",
       "confident                   3\n",
       "hesitation                  1"
      ]
     },
     "execution_count": 46,
     "metadata": {},
     "output_type": "execute_result"
    }
   ],
   "source": [
    "finaldf.groupby('predictedvalues').count()"
   ]
  },
  {
   "cell_type": "code",
   "execution_count": 47,
   "metadata": {},
   "outputs": [],
   "source": [
    "data, sampling_rate = librosa.load('Test/Dhruva 4.wav')"
   ]
  },
  {
   "cell_type": "code",
   "execution_count": 48,
   "metadata": {},
   "outputs": [
    {
     "name": "stderr",
     "output_type": "stream",
     "text": [
      "UsageError: Line magic function `%` not found.\n"
     ]
    }
   ],
   "source": [
    "% pylab inline\n",
    "import os\n",
    "import pandas as pd\n",
    "import librosa\n",
    "import glob \n",
    "\n",
    "plt.figure(figsize=(15, 5))\n",
    "librosa.display.waveplot(data, sr=sampling_rate)"
   ]
  },
  {
   "cell_type": "code",
   "execution_count": 139,
   "metadata": {},
   "outputs": [],
   "source": [
    "#livedf= pd.DataFrame(columns=['feature'])\n",
    "X, sample_rate = librosa.load('Test/Feroz 1.wav', res_type='kaiser_fast',duration=20,sr=22050*2,offset=0.5)\n",
    "sample_rate = np.array(sample_rate)\n",
    "mfccs = np.mean(librosa.feature.mfcc(y=X, sr=sample_rate, n_mfcc=13),axis=0)\n",
    "featurelive = mfccs\n",
    "livedf2 = featurelive"
   ]
  },
  {
   "cell_type": "code",
   "execution_count": 140,
   "metadata": {},
   "outputs": [],
   "source": [
    "livedf2= pd.DataFrame(data=livedf2)"
   ]
  },
  {
   "cell_type": "code",
   "execution_count": 141,
   "metadata": {},
   "outputs": [],
   "source": [
    "livedf2 = livedf2.stack().to_frame().T"
   ]
  },
  {
   "cell_type": "code",
   "execution_count": 142,
   "metadata": {},
   "outputs": [
    {
     "data": {
      "text/html": [
       "<div>\n",
       "<style scoped>\n",
       "    .dataframe tbody tr th:only-of-type {\n",
       "        vertical-align: middle;\n",
       "    }\n",
       "\n",
       "    .dataframe tbody tr th {\n",
       "        vertical-align: top;\n",
       "    }\n",
       "\n",
       "    .dataframe thead tr th {\n",
       "        text-align: left;\n",
       "    }\n",
       "</style>\n",
       "<table border=\"1\" class=\"dataframe\">\n",
       "  <thead>\n",
       "    <tr>\n",
       "      <th></th>\n",
       "      <th>0</th>\n",
       "      <th>1</th>\n",
       "      <th>2</th>\n",
       "      <th>3</th>\n",
       "      <th>4</th>\n",
       "      <th>5</th>\n",
       "      <th>6</th>\n",
       "      <th>7</th>\n",
       "      <th>8</th>\n",
       "      <th>9</th>\n",
       "      <th>...</th>\n",
       "      <th>1713</th>\n",
       "      <th>1714</th>\n",
       "      <th>1715</th>\n",
       "      <th>1716</th>\n",
       "      <th>1717</th>\n",
       "      <th>1718</th>\n",
       "      <th>1719</th>\n",
       "      <th>1720</th>\n",
       "      <th>1721</th>\n",
       "      <th>1722</th>\n",
       "    </tr>\n",
       "    <tr>\n",
       "      <th></th>\n",
       "      <th>0</th>\n",
       "      <th>0</th>\n",
       "      <th>0</th>\n",
       "      <th>0</th>\n",
       "      <th>0</th>\n",
       "      <th>0</th>\n",
       "      <th>0</th>\n",
       "      <th>0</th>\n",
       "      <th>0</th>\n",
       "      <th>0</th>\n",
       "      <th>...</th>\n",
       "      <th>0</th>\n",
       "      <th>0</th>\n",
       "      <th>0</th>\n",
       "      <th>0</th>\n",
       "      <th>0</th>\n",
       "      <th>0</th>\n",
       "      <th>0</th>\n",
       "      <th>0</th>\n",
       "      <th>0</th>\n",
       "      <th>0</th>\n",
       "    </tr>\n",
       "  </thead>\n",
       "  <tbody>\n",
       "    <tr>\n",
       "      <th>0</th>\n",
       "      <td>-6.737062</td>\n",
       "      <td>-8.566372</td>\n",
       "      <td>-12.704545</td>\n",
       "      <td>-12.363185</td>\n",
       "      <td>-9.612091</td>\n",
       "      <td>-7.091426</td>\n",
       "      <td>-7.824143</td>\n",
       "      <td>-8.815116</td>\n",
       "      <td>-6.671105</td>\n",
       "      <td>-7.802322</td>\n",
       "      <td>...</td>\n",
       "      <td>-32.06916</td>\n",
       "      <td>-32.170589</td>\n",
       "      <td>-29.931431</td>\n",
       "      <td>-19.083368</td>\n",
       "      <td>-14.927387</td>\n",
       "      <td>-13.61432</td>\n",
       "      <td>-12.996624</td>\n",
       "      <td>-14.171197</td>\n",
       "      <td>-12.161076</td>\n",
       "      <td>-4.420917</td>\n",
       "    </tr>\n",
       "  </tbody>\n",
       "</table>\n",
       "<p>1 rows × 1723 columns</p>\n",
       "</div>"
      ],
      "text/plain": [
       "       0         1          2          3         4         5         6     \\\n",
       "          0         0          0          0         0         0         0   \n",
       "0 -6.737062 -8.566372 -12.704545 -12.363185 -9.612091 -7.091426 -7.824143   \n",
       "\n",
       "       7         8         9     ...      1713       1714       1715  \\\n",
       "          0         0         0  ...         0          0          0   \n",
       "0 -8.815116 -6.671105 -7.802322  ... -32.06916 -32.170589 -29.931431   \n",
       "\n",
       "        1716       1717      1718       1719       1720       1721      1722  \n",
       "           0          0         0          0          0          0         0  \n",
       "0 -19.083368 -14.927387 -13.61432 -12.996624 -14.171197 -12.161076 -4.420917  \n",
       "\n",
       "[1 rows x 1723 columns]"
      ]
     },
     "execution_count": 142,
     "metadata": {},
     "output_type": "execute_result"
    }
   ],
   "source": [
    "livedf2"
   ]
  },
  {
   "cell_type": "code",
   "execution_count": 143,
   "metadata": {},
   "outputs": [],
   "source": [
    "twodim= np.expand_dims(livedf2, axis=2)"
   ]
  },
  {
   "cell_type": "code",
   "execution_count": 144,
   "metadata": {},
   "outputs": [
    {
     "name": "stdout",
     "output_type": "stream",
     "text": [
      "1/1 [==============================] - 0s 45ms/step\n"
     ]
    }
   ],
   "source": [
    "livepreds = loaded_model.predict(twodim, \n",
    "                         batch_size=32, \n",
    "                         verbose=1)"
   ]
  },
  {
   "cell_type": "code",
   "execution_count": 145,
   "metadata": {},
   "outputs": [
    {
     "data": {
      "text/plain": [
       "array([[0.65749586, 0.34250414]], dtype=float32)"
      ]
     },
     "execution_count": 145,
     "metadata": {},
     "output_type": "execute_result"
    }
   ],
   "source": [
    "livepreds"
   ]
  },
  {
   "cell_type": "code",
   "execution_count": 146,
   "metadata": {},
   "outputs": [],
   "source": [
    "livepreds1=livepreds.argmax(axis=1)"
   ]
  },
  {
   "cell_type": "code",
   "execution_count": 147,
   "metadata": {},
   "outputs": [],
   "source": [
    "liveabc = livepreds1.astype(int).flatten()"
   ]
  },
  {
   "cell_type": "code",
   "execution_count": 148,
   "metadata": {},
   "outputs": [
    {
     "data": {
      "text/plain": [
       "array(['confident'], dtype=object)"
      ]
     },
     "execution_count": 148,
     "metadata": {},
     "output_type": "execute_result"
    }
   ],
   "source": [
    "livepredictions = (lb.inverse_transform((liveabc)))\n",
    "livepredictions"
   ]
  },
  {
   "cell_type": "code",
   "execution_count": null,
   "metadata": {},
   "outputs": [],
   "source": []
  },
  {
   "cell_type": "code",
   "execution_count": null,
   "metadata": {},
   "outputs": [],
   "source": []
  }
 ],
 "metadata": {
  "kernelspec": {
   "display_name": "Python 3",
   "language": "python",
   "name": "python3"
  },
  "language_info": {
   "codemirror_mode": {
    "name": "ipython",
    "version": 3
   },
   "file_extension": ".py",
   "mimetype": "text/x-python",
   "name": "python",
   "nbconvert_exporter": "python",
   "pygments_lexer": "ipython3",
   "version": "3.8.5"
  }
 },
 "nbformat": 4,
 "nbformat_minor": 4
}
